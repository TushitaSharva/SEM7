{
 "cells": [
  {
   "cell_type": "markdown",
   "metadata": {},
   "source": [
    "# **HW2**\n",
    "**NAME:** JANGA TUSHITA SHARVA  \n",
    "**ROLL NUMBER:** CS21BTECH11022"
   ]
  },
  {
   "cell_type": "code",
   "execution_count": 1,
   "metadata": {},
   "outputs": [],
   "source": [
    "# Libraries import\n",
    "import numpy as np\n",
    "import scipy\n",
    "import matplotlib.pyplot as plt\n",
    "from PIL import Image\n",
    "import warnings\n",
    "warnings.filterwarnings(\"ignore\")"
   ]
  },
  {
   "cell_type": "markdown",
   "metadata": {},
   "source": [
    "### **QUESTION 1: DISTANCE BETWEEN PDFs**"
   ]
  },
  {
   "cell_type": "markdown",
   "metadata": {},
   "source": [
    "### 1A: Cross Entropy"
   ]
  },
  {
   "cell_type": "markdown",
   "metadata": {},
   "source": [
    "Helper functions"
   ]
  },
  {
   "cell_type": "code",
   "execution_count": 2,
   "metadata": {},
   "outputs": [],
   "source": [
    "ERROR_UNEQUAL_SPACES = -1\n",
    "ERROR_INVALID_PMF = -2\n",
    "ERROR_INF_DIVERGENCE = -3\n",
    "\n",
    "def get_entropy(distr):\n",
    "    if not np.isclose(np.sum(distr), 1):\n",
    "        print(ERROR_INVALID_PMF)\n",
    "        return ERROR_INVALID_PMF\n",
    "\n",
    "    entropy = 0.0\n",
    "    for i in distr:\n",
    "        if i > 0.0:\n",
    "            entropy -= i * np.log2(i)\n",
    "    return entropy\n",
    "\n",
    "def get_normalized_historgram_of_image(filepath):\n",
    "    img = np.asarray(Image.open(filepath))\n",
    "    freq = np.zeros(256)\n",
    "    num_pixels = img.size\n",
    "    for i in img:\n",
    "        for j in i:\n",
    "            freq[j] += 1\n",
    "    freq = freq/num_pixels\n",
    "    \n",
    "    return freq\n",
    "\n",
    "def get_kl_divergence(distr1, distr2):\n",
    "    divergence = 0.0\n",
    "    n1 = distr1.shape\n",
    "    n2 = distr2.shape\n",
    "\n",
    "    if(n1 != n2):\n",
    "        return ERROR_UNEQUAL_SPACES\n",
    "    \n",
    "    for i in range(n1[0]):\n",
    "        if distr1[i] > 0.0 and distr2[i] > 0.0:\n",
    "            divergence += distr1[i] * np.log2(distr1[i]/distr2[i])\n",
    "        elif distr2[i] == 0.0 and distr1[i] != 0.0:\n",
    "            return ERROR_INF_DIVERGENCE\n",
    "\n",
    "    return divergence"
   ]
  },
  {
   "cell_type": "markdown",
   "metadata": {},
   "source": [
    "### (i)"
   ]
  },
  {
   "cell_type": "code",
   "execution_count": 3,
   "metadata": {},
   "outputs": [
    {
     "name": "stdout",
     "output_type": "stream",
     "text": [
      "7.273398119987328\n",
      "7.293035317529478\n"
     ]
    }
   ],
   "source": [
    "# Function for finding cross entropy\n",
    "def get_cross_entropy(p, q):\n",
    "    ENT = get_entropy(p)\n",
    "    DIV = get_kl_divergence(p, q)\n",
    "    return ENT+DIV\n",
    "\n",
    "p = get_normalized_historgram_of_image('left.png')\n",
    "q = get_normalized_historgram_of_image('right.png')\n",
    "\n",
    "print(get_cross_entropy(p,q))\n",
    "print(get_cross_entropy(q,p))"
   ]
  },
  {
   "cell_type": "markdown",
   "metadata": {},
   "source": [
    "### (ii)"
   ]
  },
  {
   "cell_type": "code",
   "execution_count": 4,
   "metadata": {},
   "outputs": [
    {
     "data": {
      "image/png": "[encoded data removed]",
      "text/plain": [
       "<Figure size 640x480 with 1 Axes>"
      ]
     },
     "metadata": {},
     "output_type": "display_data"
    }
   ],
   "source": [
    "def plot_cross_entropy(r):\n",
    "    s_space = np.linspace(0, 1)\n",
    "    cross_entropy_pq = []\n",
    "\n",
    "    for s in s_space:\n",
    "        p = np.array([r, 1-r])\n",
    "        q = np.array([s, 1-s])\n",
    "        cross_entropy_pq.append(get_cross_entropy(p, q))\n",
    "        \n",
    "    plt.plot(s_space, cross_entropy_pq, color='purple', label='H(p,q)')\n",
    "    plt.grid(True)\n",
    "    plt.xlabel('s')\n",
    "    plt.ylabel('Cross Entropy')\n",
    "    plt.legend()\n",
    "    plt.show()\n",
    "\n",
    "plot_cross_entropy(0.5)"
   ]
  },
  {
   "cell_type": "markdown",
   "metadata": {},
   "source": [
    "Yes, as we can see from the above, a minimum is obtained when both the PMFs match."
   ]
  },
  {
   "cell_type": "markdown",
   "metadata": {},
   "source": [
    "### 1B: JS Divergence"
   ]
  },
  {
   "cell_type": "code",
   "execution_count": 5,
   "metadata": {},
   "outputs": [
    {
     "name": "stdout",
     "output_type": "stream",
     "text": [
      "0.0036730397693148257 0.0036730397693148257\n",
      "0.015104015237387055 0.014409785833354494\n"
     ]
    }
   ],
   "source": [
    "def get_js_divergence(p, q):\n",
    "    m = (p + q)/2\n",
    "    return 0.5 * (get_kl_divergence(p , m) + get_kl_divergence(q, m))\n",
    "\n",
    "p = get_normalized_historgram_of_image('left.png')\n",
    "q = get_normalized_historgram_of_image('right.png')\n",
    "\n",
    "print(get_js_divergence(p,q), get_js_divergence(q,p))\n",
    "print(get_kl_divergence(p,q), get_kl_divergence(q,p))"
   ]
  },
  {
   "cell_type": "markdown",
   "metadata": {},
   "source": [
    "Hence verified that KL divergence is not symmetric whereas JS divergence is"
   ]
  },
  {
   "cell_type": "markdown",
   "metadata": {},
   "source": [
    "### 1C: Wasserstein Distance"
   ]
  },
  {
   "cell_type": "code",
   "execution_count": 8,
   "metadata": {},
   "outputs": [
    {
     "name": "stdout",
     "output_type": "stream",
     "text": [
      "True\n",
      "False\n"
     ]
    }
   ],
   "source": [
    "# This uses loops, might have performance issues\n",
    "def check_joint_histogram(pXY, rX, sY):\n",
    "    rows = len(pXY)\n",
    "    cols = len(pXY[0])\n",
    "\n",
    "    computed_rX = [0] * rows\n",
    "    computed_sY = [0] * cols\n",
    "    \n",
    "    # Marginal rX\n",
    "    for row in range(rows):\n",
    "        for col in range(cols):\n",
    "            computed_rX[row] += pXY[row][col]\n",
    "            computed_sY[col] += pXY[row][col]\n",
    "            \n",
    "    for i in range(rows):\n",
    "        if not np.isclose(computed_rX[i], rX[i]):\n",
    "            return False\n",
    "    \n",
    "    for j in range(cols):\n",
    "        if not np.isclose(computed_sY[j], sY[j]):\n",
    "            return False\n",
    "    \n",
    "    return True\n",
    "\n",
    "# Optimised version, using np sum\n",
    "def check_joint_histogram_opt(pXY, rX, sY):\n",
    "\n",
    "    computed_sY = np.sum(pXY, axis=0)\n",
    "    computed_rX = np.sum(pXY, axis=1)\n",
    "    \n",
    "    if np.allclose(computed_rX, rX) and np.allclose(computed_sY, sY):\n",
    "        return True\n",
    "    else:\n",
    "        return False\n",
    "\n",
    "\n",
    "# Positive Sample\n",
    "pXY = [[0.2, 0.1], [0.3, 0.4]]\n",
    "rX = [0.3, 0.7]\n",
    "sY = [0.5, 0.5]\n",
    "# print(check_joint_histogram(pXY, rX, sY))\n",
    "print(check_joint_histogram_opt(pXY, rX, sY))\n",
    "\n",
    "# Negative Sample\n",
    "pXY = [[0.2, 0.1], [0.3, 0.4]]\n",
    "rX = [0.4, 0.6]\n",
    "sY = [0.5, 0.5]\n",
    "# print(check_joint_histogram(pXY, rX, sY))\n",
    "print(check_joint_histogram_opt(pXY, rX, sY))"
   ]
  },
  {
   "cell_type": "markdown",
   "metadata": {},
   "source": [
    "### **QUESTION 2: VISUALIZING DATA USING t-SNE**"
   ]
  },
  {
   "cell_type": "markdown",
   "metadata": {},
   "source": [
    "### 2A"
   ]
  }
 ],
 "metadata": {
  "kernelspec": {
   "display_name": "Python 3",
   "language": "python",
   "name": "python3"
  },
  "language_info": {
   "codemirror_mode": {
    "name": "ipython",
    "version": 3
   },
   "file_extension": ".py",
   "mimetype": "text/x-python",
   "name": "python",
   "nbconvert_exporter": "python",
   "pygments_lexer": "ipython3",
   "version": "3.10.4"
  }
 },
 "nbformat": 4,
 "nbformat_minor": 2
}
